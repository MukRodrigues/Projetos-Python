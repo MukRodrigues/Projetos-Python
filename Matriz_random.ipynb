{
  "nbformat": 4,
  "nbformat_minor": 0,
  "metadata": {
    "colab": {
      "provenance": []
    },
    "kernelspec": {
      "name": "python3",
      "display_name": "Python 3"
    },
    "language_info": {
      "name": "python"
    }
  },
  "cells": [
    {
      "cell_type": "code",
      "execution_count": 1,
      "metadata": {
        "id": "R7MaD06pzqkM"
      },
      "outputs": [],
      "source": [
        "import random\n",
        "random.seed(a=1024)\n",
        "import numpy as np"
      ]
    },
    {
      "cell_type": "code",
      "source": [
        "'''\n",
        "Gera uma lista de números pseudo-aleatórios\n",
        "'''\n",
        "ALET = []\n",
        "for i in range(0,20):\n",
        "  ALET.append(random.random())\n",
        "\n",
        "ALET"
      ],
      "metadata": {
        "colab": {
          "base_uri": "https://localhost:8080/"
        },
        "id": "dQQjp3chzywp",
        "outputId": "a904e247-ec5a-43cc-bea9-4234a2ab052e"
      },
      "execution_count": 2,
      "outputs": [
        {
          "output_type": "execute_result",
          "data": {
            "text/plain": [
              "[0.7970515714521261,\n",
              " 0.4834988702079559,\n",
              " 0.3894278133155098,\n",
              " 0.8294098883317985,\n",
              " 0.8704334163649533,\n",
              " 0.1004350963616426,\n",
              " 0.512879322215155,\n",
              " 0.9567070663569234,\n",
              " 0.7218195483613902,\n",
              " 0.7159689617814584,\n",
              " 0.388399293974409,\n",
              " 0.9821543626190504,\n",
              " 0.7114387582605087,\n",
              " 0.8736983101081407,\n",
              " 0.7976508914643888,\n",
              " 0.10229060359023223,\n",
              " 0.15506489899910214,\n",
              " 0.4739508289561789,\n",
              " 0.7347797194491176,\n",
              " 0.8431899318229427]"
            ]
          },
          "metadata": {},
          "execution_count": 2
        }
      ]
    },
    {
      "cell_type": "code",
      "source": [
        "'''\n",
        "gera uma matriz quadrada de ordem n de números aleatórios\n",
        "\n",
        ">> até n= 1000 o processador aguenta..\n",
        "para n=10000 demora certa de uns 40 segundos para rodar\n",
        "'''\n",
        "\n",
        "n = 1000\n",
        "MAT = np.zeros([n,n])\n",
        "\n",
        "for i in range(0,n):\n",
        "  for j in range(0,n):\n",
        "    MAT[i,j] = random.random()\n",
        "\n",
        "\n",
        "\n",
        "MAT"
      ],
      "metadata": {
        "colab": {
          "base_uri": "https://localhost:8080/"
        },
        "id": "OahAYTPWz03p",
        "outputId": "18d35909-eeb6-4f95-93a3-651b47fdeb62"
      },
      "execution_count": 8,
      "outputs": [
        {
          "output_type": "execute_result",
          "data": {
            "text/plain": [
              "array([[0.34388357, 0.4603021 , 0.93753363, ..., 0.1608604 , 0.04765183,\n",
              "        0.53660292],\n",
              "       [0.37275301, 0.81663122, 0.70242181, ..., 0.072806  , 0.74415072,\n",
              "        0.19272565],\n",
              "       [0.16679436, 0.96907388, 0.35156395, ..., 0.18534207, 0.59208404,\n",
              "        0.62243474],\n",
              "       ...,\n",
              "       [0.45098082, 0.24627367, 0.87969416, ..., 0.43983986, 0.87013076,\n",
              "        0.38392805],\n",
              "       [0.16666299, 0.82910608, 0.61621409, ..., 0.38801435, 0.70465037,\n",
              "        0.74515667],\n",
              "       [0.42646369, 0.67528199, 0.08030932, ..., 0.43049691, 0.87554054,\n",
              "        0.23470189]])"
            ]
          },
          "metadata": {},
          "execution_count": 8
        }
      ]
    },
    {
      "cell_type": "code",
      "source": [],
      "metadata": {
        "id": "XFXCCR-x0HUl"
      },
      "execution_count": null,
      "outputs": []
    }
  ]
}